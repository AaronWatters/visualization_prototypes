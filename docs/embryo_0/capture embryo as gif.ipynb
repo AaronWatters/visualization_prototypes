{
 "cells": [
  {
   "cell_type": "markdown",
   "metadata": {},
   "source": [
    "# Make an animated GIF of the embryo time slices.\n",
    "\n",
    "The following Jupyter notebook work flow creates an animated GIF based on the\n",
    "embryo visualization.\n",
    "\n",
    "It uses the jp_doodle package\n",
    "<a href=\"https://github.com/AaronWatters/jp_doodle\">the jp_doodle package</a> and imageio which\n",
    "is a dependancy of jp_doodle.  It requires an appropriate data file as input."
   ]
  },
  {
   "cell_type": "code",
   "execution_count": 1,
   "metadata": {},
   "outputs": [],
   "source": [
    "import os"
   ]
  },
  {
   "cell_type": "code",
   "execution_count": 2,
   "metadata": {},
   "outputs": [
    {
     "data": {
      "text/plain": [
       "'/Users/awatters/misc/LisaBrown/FiveGenesOverTime.json'"
      ]
     },
     "execution_count": 2,
     "metadata": {},
     "output_type": "execute_result"
    }
   ],
   "source": [
    "filepath = os.path.expanduser(\"~/misc/LisaBrown/FiveGenesOverTime.json\")\n",
    "filepath"
   ]
  },
  {
   "cell_type": "code",
   "execution_count": 3,
   "metadata": {},
   "outputs": [],
   "source": [
    "import make_genes_by_time_json"
   ]
  },
  {
   "cell_type": "code",
   "execution_count": 4,
   "metadata": {},
   "outputs": [],
   "source": [
    "json_object = make_genes_by_time_json.converted_json(open(filepath).read(), as_string=False)"
   ]
  },
  {
   "cell_type": "code",
   "execution_count": 5,
   "metadata": {},
   "outputs": [
    {
     "data": {
      "text/plain": [
       "dict_keys(['time_to_dicts', 'gene_names', 'times'])"
      ]
     },
     "execution_count": 5,
     "metadata": {},
     "output_type": "execute_result"
    }
   ],
   "source": [
    "json_object.keys()"
   ]
  },
  {
   "cell_type": "code",
   "execution_count": 6,
   "metadata": {},
   "outputs": [
    {
     "data": {
      "application/vnd.jupyter.widget-view+json": {
       "model_id": "ab70afe11aa841c1943d6f3b75a04bd8",
       "version_major": 2,
       "version_minor": 0
      },
      "text/plain": [
       "VBox(children=(DualCanvasWidget(status='deferring flush until render'), Text(value='deferring flush until rend…"
      ]
     },
     "metadata": {},
     "output_type": "display_data"
    }
   ],
   "source": [
    "from jp_doodle import dual_canvas\n",
    "from jp_doodle import doodle_files\n",
    "\n",
    "widget = dual_canvas.DualCanvasWidget(width=600, height=600)\n",
    "nd_frame_js = doodle_files.vendor_path(\"js/nd_frame.js\")\n",
    "widget.load_js_files([nd_frame_js, \"embryo.js\"])\n",
    "widget.js_init(\"\"\"\n",
    "var info = $(\"<div/>\").appendTo(element);\n",
    "var target = element;\n",
    "process_embryo_data(json_object, element, info, target)\n",
    "\"\"\", json_object=json_object)\n",
    "\n",
    "widget.debugging_display()"
   ]
  },
  {
   "cell_type": "code",
   "execution_count": 7,
   "metadata": {},
   "outputs": [],
   "source": [
    "#widget.element.set_time_index(2)"
   ]
  },
  {
   "cell_type": "code",
   "execution_count": 8,
   "metadata": {},
   "outputs": [],
   "source": [
    "import imageio"
   ]
  },
  {
   "cell_type": "code",
   "execution_count": 9,
   "metadata": {},
   "outputs": [],
   "source": [
    "# https://stackoverflow.com/questions/38433425/custom-frame-duration-for-animated-gif-in-python-imageio\n",
    "frames = []\n",
    "for index in range(len(json_object[\"times\"])):\n",
    "    widget.element.set_time_index(index)\n",
    "    array = widget.pixels_array()\n",
    "    frames.append(array)"
   ]
  },
  {
   "cell_type": "code",
   "execution_count": 10,
   "metadata": {},
   "outputs": [
    {
     "data": {
      "text/plain": [
       "56"
      ]
     },
     "execution_count": 10,
     "metadata": {},
     "output_type": "execute_result"
    }
   ],
   "source": [
    "len(frames)"
   ]
  },
  {
   "cell_type": "code",
   "execution_count": 11,
   "metadata": {},
   "outputs": [],
   "source": [
    "exportname = \"embryo_animated.gif\"\n",
    "imageio.mimsave(exportname, frames, format='GIF', duration=2)"
   ]
  },
  {
   "cell_type": "markdown",
   "metadata": {},
   "source": [
    "<img src=\"embryo_animated.gif?A=B\">\n",
    "<div><span style=\"color: rgb(255, 0, 0);\">Wg ⬤ ; </span><span style=\"color: rgb(0, 128, 0);\">Byn ⬤ ; </span><span style=\"color: rgb(0, 0, 255);\">Hkb ⬤ ; </span><span style=\"color: cyan;\">Tll ⬤ ; </span><span style=\"color: magenta;\">Fkh ⬤ ; </span></div>"
   ]
  },
  {
   "cell_type": "code",
   "execution_count": null,
   "metadata": {},
   "outputs": [],
   "source": []
  }
 ],
 "metadata": {
  "kernelspec": {
   "display_name": "Python 3",
   "language": "python",
   "name": "python3"
  },
  "language_info": {
   "codemirror_mode": {
    "name": "ipython",
    "version": 3
   },
   "file_extension": ".py",
   "mimetype": "text/x-python",
   "name": "python",
   "nbconvert_exporter": "python",
   "pygments_lexer": "ipython3",
   "version": "3.6.8"
  }
 },
 "nbformat": 4,
 "nbformat_minor": 4
}
